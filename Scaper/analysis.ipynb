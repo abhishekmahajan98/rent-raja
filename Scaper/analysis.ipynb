{
 "cells": [
  {
   "cell_type": "code",
   "execution_count": 1,
   "metadata": {},
   "outputs": [],
   "source": [
    "import pandas as pd\n",
    "import json\n",
    "import glob"
   ]
  },
  {
   "cell_type": "code",
   "execution_count": 10,
   "metadata": {},
   "outputs": [],
   "source": [
    "all_listings = []\n",
    "\n",
    "# Load each JSON file and combine listings into a list\n",
    "for file in glob.glob('scraped_data/*.json'):\n",
    "    with open(file) as f:\n",
    "        data = json.load(f)\n",
    "        all_listings.extend(data['listResults'])"
   ]
  },
  {
   "cell_type": "code",
   "execution_count": 11,
   "metadata": {},
   "outputs": [],
   "source": [
    "df = pd.DataFrame(all_listings)"
   ]
  },
  {
   "cell_type": "code",
   "execution_count": 12,
   "metadata": {},
   "outputs": [
    {
     "name": "stdout",
     "output_type": "stream",
     "text": [
      "(6718, 61)\n"
     ]
    }
   ],
   "source": [
    "print(df.shape)\n",
    "df = df.dropna(subset=['zpid'])\n",
    "df = df.drop_duplicates(subset=['zpid'])"
   ]
  },
  {
   "cell_type": "code",
   "execution_count": 47,
   "metadata": {},
   "outputs": [],
   "source": [
    "# len(df['units'][0])"
   ]
  },
  {
   "cell_type": "code",
   "execution_count": 13,
   "metadata": {},
   "outputs": [
    {
     "name": "stdout",
     "output_type": "stream",
     "text": [
      "6364\n"
     ]
    }
   ],
   "source": [
    "total_listings = 0\n",
    "for unit in df['units']:\n",
    "    try:\n",
    "        total_listings += len(unit)\n",
    "    except TypeError:\n",
    "        total_listings += 1\n",
    "\n",
    "\n",
    "print(total_listings)"
   ]
  },
  {
   "cell_type": "code",
   "execution_count": 14,
   "metadata": {},
   "outputs": [
    {
     "data": {
      "text/html": [
       "<div>\n",
       "<style scoped>\n",
       "    .dataframe tbody tr th:only-of-type {\n",
       "        vertical-align: middle;\n",
       "    }\n",
       "\n",
       "    .dataframe tbody tr th {\n",
       "        vertical-align: top;\n",
       "    }\n",
       "\n",
       "    .dataframe thead th {\n",
       "        text-align: right;\n",
       "    }\n",
       "</style>\n",
       "<table border=\"1\" class=\"dataframe\">\n",
       "  <thead>\n",
       "    <tr style=\"text-align: right;\">\n",
       "      <th></th>\n",
       "      <th>zpid</th>\n",
       "      <th>id</th>\n",
       "      <th>rawHomeStatusCd</th>\n",
       "      <th>marketingStatusSimplifiedCd</th>\n",
       "      <th>providerListingId</th>\n",
       "      <th>imgSrc</th>\n",
       "      <th>hasImage</th>\n",
       "      <th>detailUrl</th>\n",
       "      <th>statusType</th>\n",
       "      <th>statusText</th>\n",
       "      <th>...</th>\n",
       "      <th>canSaveBuilding</th>\n",
       "      <th>availabilityCount</th>\n",
       "      <th>isInstantTourEnabled</th>\n",
       "      <th>isContactable</th>\n",
       "      <th>hasOpenHouse</th>\n",
       "      <th>openHouseStartDate</th>\n",
       "      <th>openHouseEndDate</th>\n",
       "      <th>openHouseDescription</th>\n",
       "      <th>streetViewURL</th>\n",
       "      <th>streetViewMetadataURL</th>\n",
       "    </tr>\n",
       "  </thead>\n",
       "  <tbody>\n",
       "    <tr>\n",
       "      <th>0</th>\n",
       "      <td>345131975</td>\n",
       "      <td>345131975</td>\n",
       "      <td>ForRent</td>\n",
       "      <td>For Rent</td>\n",
       "      <td>5eqtcyy0n70se</td>\n",
       "      <td>https://photos.zillowstatic.com/fp/5eeb8afc0be...</td>\n",
       "      <td>True</td>\n",
       "      <td>https://www.zillow.com/apartments/getzville-ny...</td>\n",
       "      <td>FOR_RENT</td>\n",
       "      <td>Apartment for rent</td>\n",
       "      <td>...</td>\n",
       "      <td>NaN</td>\n",
       "      <td>NaN</td>\n",
       "      <td>NaN</td>\n",
       "      <td>NaN</td>\n",
       "      <td>NaN</td>\n",
       "      <td>NaN</td>\n",
       "      <td>NaN</td>\n",
       "      <td>NaN</td>\n",
       "      <td>NaN</td>\n",
       "      <td>NaN</td>\n",
       "    </tr>\n",
       "    <tr>\n",
       "      <th>1</th>\n",
       "      <td>2079034973</td>\n",
       "      <td>2079034973</td>\n",
       "      <td>ForRent</td>\n",
       "      <td>For Rent</td>\n",
       "      <td>2hh680bv1mawm</td>\n",
       "      <td>https://photos.zillowstatic.com/fp/2736ccef5ac...</td>\n",
       "      <td>True</td>\n",
       "      <td>https://www.zillow.com/apartments/getzville-ny...</td>\n",
       "      <td>FOR_RENT</td>\n",
       "      <td>Apartment for rent</td>\n",
       "      <td>...</td>\n",
       "      <td>NaN</td>\n",
       "      <td>NaN</td>\n",
       "      <td>NaN</td>\n",
       "      <td>NaN</td>\n",
       "      <td>NaN</td>\n",
       "      <td>NaN</td>\n",
       "      <td>NaN</td>\n",
       "      <td>NaN</td>\n",
       "      <td>NaN</td>\n",
       "      <td>NaN</td>\n",
       "    </tr>\n",
       "    <tr>\n",
       "      <th>2</th>\n",
       "      <td>2060404202</td>\n",
       "      <td>2060404202</td>\n",
       "      <td>ForRent</td>\n",
       "      <td>For Rent</td>\n",
       "      <td>kt7f87gmwmr6</td>\n",
       "      <td>https://photos.zillowstatic.com/fp/3b90cdde69c...</td>\n",
       "      <td>True</td>\n",
       "      <td>https://www.zillow.com/homedetails/212-Sunshin...</td>\n",
       "      <td>FOR_RENT</td>\n",
       "      <td>Apartment for rent</td>\n",
       "      <td>...</td>\n",
       "      <td>NaN</td>\n",
       "      <td>NaN</td>\n",
       "      <td>NaN</td>\n",
       "      <td>NaN</td>\n",
       "      <td>NaN</td>\n",
       "      <td>NaN</td>\n",
       "      <td>NaN</td>\n",
       "      <td>NaN</td>\n",
       "      <td>NaN</td>\n",
       "      <td>NaN</td>\n",
       "    </tr>\n",
       "    <tr>\n",
       "      <th>3</th>\n",
       "      <td>30237104</td>\n",
       "      <td>30237104</td>\n",
       "      <td>ForRent</td>\n",
       "      <td>For Rent</td>\n",
       "      <td>4d75cvthfdwg</td>\n",
       "      <td>https://photos.zillowstatic.com/fp/0b1868fd4e4...</td>\n",
       "      <td>True</td>\n",
       "      <td>https://www.zillow.com/homedetails/88-Brittany...</td>\n",
       "      <td>FOR_RENT</td>\n",
       "      <td>Apartment for rent</td>\n",
       "      <td>...</td>\n",
       "      <td>NaN</td>\n",
       "      <td>NaN</td>\n",
       "      <td>NaN</td>\n",
       "      <td>NaN</td>\n",
       "      <td>NaN</td>\n",
       "      <td>NaN</td>\n",
       "      <td>NaN</td>\n",
       "      <td>NaN</td>\n",
       "      <td>NaN</td>\n",
       "      <td>NaN</td>\n",
       "    </tr>\n",
       "    <tr>\n",
       "      <th>4</th>\n",
       "      <td>30242470</td>\n",
       "      <td>30242470</td>\n",
       "      <td>ForRent</td>\n",
       "      <td>For Rent</td>\n",
       "      <td>1z1xx7aq58jwr</td>\n",
       "      <td>https://photos.zillowstatic.com/fp/8ce5bc9eca2...</td>\n",
       "      <td>True</td>\n",
       "      <td>https://www.zillow.com/homedetails/270-Heim-Rd...</td>\n",
       "      <td>FOR_RENT</td>\n",
       "      <td>House for rent</td>\n",
       "      <td>...</td>\n",
       "      <td>NaN</td>\n",
       "      <td>NaN</td>\n",
       "      <td>NaN</td>\n",
       "      <td>NaN</td>\n",
       "      <td>NaN</td>\n",
       "      <td>NaN</td>\n",
       "      <td>NaN</td>\n",
       "      <td>NaN</td>\n",
       "      <td>NaN</td>\n",
       "      <td>NaN</td>\n",
       "    </tr>\n",
       "  </tbody>\n",
       "</table>\n",
       "<p>5 rows × 61 columns</p>\n",
       "</div>"
      ],
      "text/plain": [
       "         zpid          id rawHomeStatusCd marketingStatusSimplifiedCd  \\\n",
       "0   345131975   345131975         ForRent                    For Rent   \n",
       "1  2079034973  2079034973         ForRent                    For Rent   \n",
       "2  2060404202  2060404202         ForRent                    For Rent   \n",
       "3    30237104    30237104         ForRent                    For Rent   \n",
       "4    30242470    30242470         ForRent                    For Rent   \n",
       "\n",
       "  providerListingId                                             imgSrc  \\\n",
       "0     5eqtcyy0n70se  https://photos.zillowstatic.com/fp/5eeb8afc0be...   \n",
       "1     2hh680bv1mawm  https://photos.zillowstatic.com/fp/2736ccef5ac...   \n",
       "2      kt7f87gmwmr6  https://photos.zillowstatic.com/fp/3b90cdde69c...   \n",
       "3      4d75cvthfdwg  https://photos.zillowstatic.com/fp/0b1868fd4e4...   \n",
       "4     1z1xx7aq58jwr  https://photos.zillowstatic.com/fp/8ce5bc9eca2...   \n",
       "\n",
       "  hasImage                                          detailUrl statusType  \\\n",
       "0     True  https://www.zillow.com/apartments/getzville-ny...   FOR_RENT   \n",
       "1     True  https://www.zillow.com/apartments/getzville-ny...   FOR_RENT   \n",
       "2     True  https://www.zillow.com/homedetails/212-Sunshin...   FOR_RENT   \n",
       "3     True  https://www.zillow.com/homedetails/88-Brittany...   FOR_RENT   \n",
       "4     True  https://www.zillow.com/homedetails/270-Heim-Rd...   FOR_RENT   \n",
       "\n",
       "           statusText  ... canSaveBuilding availabilityCount  \\\n",
       "0  Apartment for rent  ...             NaN               NaN   \n",
       "1  Apartment for rent  ...             NaN               NaN   \n",
       "2  Apartment for rent  ...             NaN               NaN   \n",
       "3  Apartment for rent  ...             NaN               NaN   \n",
       "4      House for rent  ...             NaN               NaN   \n",
       "\n",
       "   isInstantTourEnabled isContactable hasOpenHouse openHouseStartDate  \\\n",
       "0                   NaN           NaN          NaN                NaN   \n",
       "1                   NaN           NaN          NaN                NaN   \n",
       "2                   NaN           NaN          NaN                NaN   \n",
       "3                   NaN           NaN          NaN                NaN   \n",
       "4                   NaN           NaN          NaN                NaN   \n",
       "\n",
       "  openHouseEndDate openHouseDescription streetViewURL  streetViewMetadataURL  \n",
       "0              NaN                  NaN           NaN                    NaN  \n",
       "1              NaN                  NaN           NaN                    NaN  \n",
       "2              NaN                  NaN           NaN                    NaN  \n",
       "3              NaN                  NaN           NaN                    NaN  \n",
       "4              NaN                  NaN           NaN                    NaN  \n",
       "\n",
       "[5 rows x 61 columns]"
      ]
     },
     "execution_count": 14,
     "metadata": {},
     "output_type": "execute_result"
    }
   ],
   "source": [
    "df.head()"
   ]
  },
  {
   "cell_type": "code",
   "execution_count": 18,
   "metadata": {},
   "outputs": [
    {
     "data": {
      "text/plain": [
       "Index(['zpid', 'id', 'rawHomeStatusCd', 'marketingStatusSimplifiedCd',\n",
       "       'providerListingId', 'imgSrc', 'hasImage', 'detailUrl', 'statusType',\n",
       "       'statusText', 'countryCurrency', 'price', 'unformattedPrice', 'address',\n",
       "       'addressStreet', 'addressCity', 'addressState', 'addressZipcode',\n",
       "       'isUndisclosedAddress', 'beds', 'baths', 'area', 'latLong',\n",
       "       'isZillowOwned', 'variableData', 'hdpData', 'isSaved',\n",
       "       'isUserClaimingOwner', 'isUserConfirmedClaim', 'pgapt', 'sgapt',\n",
       "       'shouldShowZestimateAsPrice', 'has3DModel', 'hasVideo', 'isHomeRec',\n",
       "       'hasAdditionalAttributions', 'isFeaturedListing', 'isShowcaseListing',\n",
       "       'list', 'relaxed', 'brokerName', 'carouselPhotos',\n",
       "       'marketingTreatments', 'rooms', 'badgeInfo', 'availabilityDate',\n",
       "       'zestimate', 'units', 'lotId', 'buildingName', 'isBuilding',\n",
       "       'canSaveBuilding', 'availabilityCount', 'isInstantTourEnabled',\n",
       "       'isContactable', 'hasOpenHouse', 'openHouseStartDate',\n",
       "       'openHouseEndDate', 'openHouseDescription', 'streetViewURL',\n",
       "       'streetViewMetadataURL'],\n",
       "      dtype='object')"
      ]
     },
     "execution_count": 18,
     "metadata": {},
     "output_type": "execute_result"
    }
   ],
   "source": [
    "df.columns"
   ]
  },
  {
   "cell_type": "code",
   "execution_count": null,
   "metadata": {},
   "outputs": [],
   "source": []
  }
 ],
 "metadata": {
  "kernelspec": {
   "display_name": "ds-scraper",
   "language": "python",
   "name": "python3"
  },
  "language_info": {
   "codemirror_mode": {
    "name": "ipython",
    "version": 3
   },
   "file_extension": ".py",
   "mimetype": "text/x-python",
   "name": "python",
   "nbconvert_exporter": "python",
   "pygments_lexer": "ipython3",
   "version": "3.12.3"
  }
 },
 "nbformat": 4,
 "nbformat_minor": 2
}

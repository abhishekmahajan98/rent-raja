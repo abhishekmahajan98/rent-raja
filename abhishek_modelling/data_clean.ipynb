{
 "cells": [
  {
   "cell_type": "code",
   "execution_count": 54,
   "metadata": {},
   "outputs": [],
   "source": [
    "import numpy as np\n",
    "import pandas as pd\n",
    "import matplotlib.pyplot as plt\n",
    "import seaborn as sns"
   ]
  },
  {
   "cell_type": "code",
   "execution_count": 55,
   "metadata": {},
   "outputs": [],
   "source": [
    "df = pd.read_csv('../final_rental_merged.csv')"
   ]
  },
  {
   "cell_type": "code",
   "execution_count": 56,
   "metadata": {},
   "outputs": [
    {
     "data": {
      "text/plain": [
       "Index(['Unnamed: 0', 'listedAt', 'daysOnMarket', 'availableFrom', 'street',\n",
       "       'price', 'borough', 'neighborhood', 'zip', 'propertyType', 'beds',\n",
       "       'baths', 'latitude', 'longitude', 'amenities', 'builtIn', 'description',\n",
       "       'hasVideo', 'PhotosNum', 'state', 'isUndisclosedAddress',\n",
       "       'isFeaturedListing', 'duplicate', 'Total Population', 'Median Age',\n",
       "       'Male Population', 'Female Population', 'White Alone',\n",
       "       'Black or African American Alone', 'Asian Alone', 'Hispanic or Latino',\n",
       "       'Number of Households', 'Median Household Income', 'Per Capita Income',\n",
       "       'Population Below Poverty Level', 'Employed', 'Unemployed',\n",
       "       'Total Income Distribution', 'Median Gross Rent', 'Median Home Value',\n",
       "       'Occupied Housing Units', 'Vacant Housing Units',\n",
       "       'Owner-Occupied Units (value < $100,000)', 'Monthly Housing Costs',\n",
       "       'High School Graduate (Age 25+)', 'Bachelor’s Degree (Age 25+)',\n",
       "       'Graduate or Professional Degree (Age 25+)', 'English Only', 'Spanish',\n",
       "       'Never Married', 'Currently Married', 'Divorced', 'Precinct',\n",
       "       'schools_in_precinct', 'nearby_subway_stations', 'crime_rate'],\n",
       "      dtype='object')"
      ]
     },
     "execution_count": 56,
     "metadata": {},
     "output_type": "execute_result"
    }
   ],
   "source": [
    "df.columns"
   ]
  },
  {
   "cell_type": "code",
   "execution_count": 57,
   "metadata": {},
   "outputs": [],
   "source": [
    "df.drop('Unnamed: 0',axis=1,inplace=True) # dropping the index column inferred as a normal column"
   ]
  },
  {
   "cell_type": "code",
   "execution_count": 58,
   "metadata": {},
   "outputs": [
    {
     "name": "stdout",
     "output_type": "stream",
     "text": [
      "Number of rows: 7842\n"
     ]
    }
   ],
   "source": [
    "print(\"Number of rows:\",len(df))"
   ]
  },
  {
   "cell_type": "markdown",
   "metadata": {},
   "source": [
    "## Analysing and cleaning columns"
   ]
  },
  {
   "cell_type": "code",
   "execution_count": 59,
   "metadata": {},
   "outputs": [
    {
     "name": "stdout",
     "output_type": "stream",
     "text": [
      "-------------------------------------------\n",
      "column : listedAt\n",
      "Number of Unique values: 177\n",
      "-------------------------------------------\n",
      "column : daysOnMarket\n",
      "Number of Unique values: 204\n",
      "-------------------------------------------\n",
      "column : availableFrom\n",
      "Number of Unique values: 309\n",
      "-------------------------------------------\n",
      "column : street\n",
      "Number of Unique values: 7842\n",
      "-------------------------------------------\n",
      "column : price\n",
      "Number of Unique values: 1378\n",
      "-------------------------------------------\n",
      "column : borough\n",
      "Number of Unique values: 5\n",
      "values list: ['Brooklyn', 'Manhattan', 'Queens', 'Bronx', 'Staten Island']\n",
      "-------------------------------------------\n",
      "column : neighborhood\n",
      "Number of Unique values: 163\n",
      "-------------------------------------------\n",
      "column : zip\n",
      "Number of Unique values: 166\n",
      "-------------------------------------------\n",
      "column : propertyType\n",
      "Number of Unique values: 9\n",
      "values list: ['rental', 'coop', 'house', 'condo', 'townhouse', 'Apartment', 'Townhouse', 'House', 'Condo']\n",
      "-------------------------------------------\n",
      "column : beds\n",
      "Number of Unique values: 10\n",
      "values list: [np.int64(1), np.int64(2), np.int64(3), np.int64(0), np.int64(6), np.int64(4), np.int64(5), np.int64(8), np.int64(10), np.int64(7)]\n",
      "-------------------------------------------\n",
      "column : baths\n",
      "Number of Unique values: 12\n",
      "values list: [np.float64(1.0), np.float64(2.0), np.float64(3.0), np.float64(5.0), np.float64(4.0), np.float64(7.0), np.float64(6.0), np.float64(0.0), np.float64(15.0), np.float64(9.0), np.float64(8.0), np.float64(10.0)]\n",
      "-------------------------------------------\n",
      "column : latitude\n",
      "Number of Unique values: 7360\n",
      "-------------------------------------------\n",
      "column : longitude\n",
      "Number of Unique values: 7002\n",
      "-------------------------------------------\n",
      "column : amenities\n",
      "Number of Unique values: 2146\n",
      "-------------------------------------------\n",
      "column : builtIn\n",
      "Number of Unique values: 142\n",
      "-------------------------------------------\n",
      "column : description\n",
      "Number of Unique values: 2787\n",
      "-------------------------------------------\n",
      "column : hasVideo\n",
      "Number of Unique values: 3\n",
      "values list: ['1', 'False', 'True']\n",
      "-------------------------------------------\n",
      "column : PhotosNum\n",
      "Number of Unique values: 63\n",
      "-------------------------------------------\n",
      "column : state\n",
      "Number of Unique values: 1\n",
      "values list: [nan, 'NY']\n",
      "-------------------------------------------\n",
      "column : isUndisclosedAddress\n",
      "Number of Unique values: 1\n",
      "values list: [nan, False]\n",
      "-------------------------------------------\n",
      "column : isFeaturedListing\n",
      "Number of Unique values: 2\n",
      "values list: [nan, True, False]\n",
      "-------------------------------------------\n",
      "column : duplicate\n",
      "Number of Unique values: 1\n",
      "values list: [np.False_]\n",
      "-------------------------------------------\n",
      "column : Total Population\n",
      "Number of Unique values: 131\n",
      "-------------------------------------------\n",
      "column : Median Age\n",
      "Number of Unique values: 94\n",
      "-------------------------------------------\n",
      "column : Male Population\n",
      "Number of Unique values: 130\n",
      "-------------------------------------------\n",
      "column : Female Population\n",
      "Number of Unique values: 131\n",
      "-------------------------------------------\n",
      "column : White Alone\n",
      "Number of Unique values: 131\n",
      "-------------------------------------------\n",
      "column : Black or African American Alone\n",
      "Number of Unique values: 131\n",
      "-------------------------------------------\n",
      "column : Asian Alone\n",
      "Number of Unique values: 131\n",
      "-------------------------------------------\n",
      "column : Hispanic or Latino\n",
      "Number of Unique values: 131\n",
      "-------------------------------------------\n",
      "column : Number of Households\n",
      "Number of Unique values: 131\n",
      "-------------------------------------------\n",
      "column : Median Household Income\n",
      "Number of Unique values: 131\n",
      "-------------------------------------------\n",
      "column : Per Capita Income\n",
      "Number of Unique values: 131\n",
      "-------------------------------------------\n",
      "column : Population Below Poverty Level\n",
      "Number of Unique values: 130\n",
      "-------------------------------------------\n",
      "column : Employed\n",
      "Number of Unique values: 131\n",
      "-------------------------------------------\n",
      "column : Unemployed\n",
      "Number of Unique values: 130\n",
      "-------------------------------------------\n",
      "column : Total Income Distribution\n",
      "Number of Unique values: 131\n",
      "-------------------------------------------\n",
      "column : Median Gross Rent\n",
      "Number of Unique values: 122\n",
      "-------------------------------------------\n",
      "column : Median Home Value\n",
      "Number of Unique values: 129\n",
      "-------------------------------------------\n",
      "column : Occupied Housing Units\n",
      "Number of Unique values: 131\n",
      "-------------------------------------------\n",
      "column : Vacant Housing Units\n",
      "Number of Unique values: 127\n",
      "-------------------------------------------\n",
      "column : Owner-Occupied Units (value < $100,000)\n",
      "Number of Unique values: 84\n",
      "-------------------------------------------\n",
      "column : Monthly Housing Costs\n",
      "Number of Unique values: 124\n",
      "-------------------------------------------\n",
      "column : High School Graduate (Age 25+)\n",
      "Number of Unique values: 130\n",
      "-------------------------------------------\n",
      "column : Bachelor’s Degree (Age 25+)\n",
      "Number of Unique values: 131\n",
      "-------------------------------------------\n",
      "column : Graduate or Professional Degree (Age 25+)\n",
      "Number of Unique values: 125\n",
      "-------------------------------------------\n",
      "column : English Only\n",
      "Number of Unique values: 0\n",
      "values list: [np.float64(nan)]\n",
      "-------------------------------------------\n",
      "column : Spanish\n",
      "Number of Unique values: 0\n",
      "values list: [np.float64(nan)]\n",
      "-------------------------------------------\n",
      "column : Never Married\n",
      "Number of Unique values: 130\n",
      "-------------------------------------------\n",
      "column : Currently Married\n",
      "Number of Unique values: 131\n",
      "-------------------------------------------\n",
      "column : Divorced\n",
      "Number of Unique values: 125\n",
      "-------------------------------------------\n",
      "column : Precinct\n",
      "Number of Unique values: 74\n",
      "-------------------------------------------\n",
      "column : schools_in_precinct\n",
      "Number of Unique values: 40\n",
      "values list: [np.int64(41), np.int64(56), np.int64(15), np.int64(17), np.int64(37), np.int64(26), np.int64(11), np.int64(69), np.int64(4), np.int64(24), np.int64(31), np.int64(21), np.int64(10), np.int64(19), np.int64(7), np.int64(28), np.int64(23), np.int64(36), np.int64(34), np.int64(38), np.int64(6), np.int64(72), np.int64(25), np.int64(27), np.int64(33), np.int64(30), np.int64(58), np.int64(22), np.int64(29), np.int64(18), np.int64(42), np.int64(35), np.int64(32), np.int64(63), np.int64(39), np.int64(71), np.int64(16), np.int64(20), np.int64(46), np.int64(51)]\n",
      "-------------------------------------------\n",
      "column : nearby_subway_stations\n",
      "Number of Unique values: 15\n",
      "values list: [np.int64(3), np.int64(0), np.int64(6), np.int64(18), np.int64(21), np.int64(24), np.int64(15), np.int64(12), np.int64(9), np.int64(36), np.int64(27), np.int64(30), np.int64(39), np.int64(33), np.int64(42)]\n",
      "-------------------------------------------\n",
      "column : crime_rate\n",
      "Number of Unique values: 74\n"
     ]
    }
   ],
   "source": [
    "for column in df.columns:\n",
    "    count = df[column].value_counts()\n",
    "    print(\"-------------------------------------------\")\n",
    "    print(f\"column : {column}\")\n",
    "    print(f\"Number of Unique values: {len(count)}\")\n",
    "    if len(count) < 50:       \n",
    "        print(f\"values list: {list(df[column].unique())}\")  # Convert to list and remove .index"
   ]
  },
  {
   "cell_type": "code",
   "execution_count": 60,
   "metadata": {},
   "outputs": [
    {
     "name": "stdout",
     "output_type": "stream",
     "text": [
      "Number of null values: 0\n",
      "\n",
      "Statistics for daysOnMarket:\n",
      "count    7842.000000\n",
      "mean       18.371716\n",
      "std        35.188656\n",
      "min        -1.000000\n",
      "25%         2.000000\n",
      "50%         9.000000\n",
      "75%        22.000000\n",
      "max       958.000000\n",
      "Name: daysOnMarket, dtype: float64\n"
     ]
    }
   ],
   "source": [
    "# for daysOnMarket\n",
    "# Check null values \n",
    "print(\"Number of null values:\", df['daysOnMarket'].isnull().sum())\n",
    "\n",
    "# Get basic statistics\n",
    "print(\"\\nStatistics for daysOnMarket:\")\n",
    "print(df['daysOnMarket'].describe())"
   ]
  },
  {
   "cell_type": "code",
   "execution_count": 61,
   "metadata": {},
   "outputs": [
    {
     "name": "stdout",
     "output_type": "stream",
     "text": [
      "rows with negative daysOnMarket: 1239\n"
     ]
    },
    {
     "data": {
      "text/html": [
       "<div>\n",
       "<style scoped>\n",
       "    .dataframe tbody tr th:only-of-type {\n",
       "        vertical-align: middle;\n",
       "    }\n",
       "\n",
       "    .dataframe tbody tr th {\n",
       "        vertical-align: top;\n",
       "    }\n",
       "\n",
       "    .dataframe thead th {\n",
       "        text-align: right;\n",
       "    }\n",
       "</style>\n",
       "<table border=\"1\" class=\"dataframe\">\n",
       "  <thead>\n",
       "    <tr style=\"text-align: right;\">\n",
       "      <th></th>\n",
       "      <th>listedAt</th>\n",
       "      <th>daysOnMarket</th>\n",
       "      <th>availableFrom</th>\n",
       "      <th>street</th>\n",
       "      <th>price</th>\n",
       "      <th>borough</th>\n",
       "      <th>neighborhood</th>\n",
       "      <th>zip</th>\n",
       "      <th>propertyType</th>\n",
       "      <th>beds</th>\n",
       "      <th>...</th>\n",
       "      <th>Graduate or Professional Degree (Age 25+)</th>\n",
       "      <th>English Only</th>\n",
       "      <th>Spanish</th>\n",
       "      <th>Never Married</th>\n",
       "      <th>Currently Married</th>\n",
       "      <th>Divorced</th>\n",
       "      <th>Precinct</th>\n",
       "      <th>schools_in_precinct</th>\n",
       "      <th>nearby_subway_stations</th>\n",
       "      <th>crime_rate</th>\n",
       "    </tr>\n",
       "  </thead>\n",
       "  <tbody>\n",
       "    <tr>\n",
       "      <th>2798</th>\n",
       "      <td>NaN</td>\n",
       "      <td>-1</td>\n",
       "      <td>2024-11-18 00:00:00</td>\n",
       "      <td>511 Van Buren St #3R</td>\n",
       "      <td>$2,400/mo</td>\n",
       "      <td>Brooklyn</td>\n",
       "      <td>NaN</td>\n",
       "      <td>11221</td>\n",
       "      <td>Apartment</td>\n",
       "      <td>1</td>\n",
       "      <td>...</td>\n",
       "      <td>458.0</td>\n",
       "      <td>NaN</td>\n",
       "      <td>NaN</td>\n",
       "      <td>21906.0</td>\n",
       "      <td>11845.0</td>\n",
       "      <td>2080.0</td>\n",
       "      <td>81</td>\n",
       "      <td>33</td>\n",
       "      <td>3</td>\n",
       "      <td>1.214623</td>\n",
       "    </tr>\n",
       "    <tr>\n",
       "      <th>2799</th>\n",
       "      <td>NaN</td>\n",
       "      <td>-1</td>\n",
       "      <td>NaN</td>\n",
       "      <td>607 Gates Ave #1E</td>\n",
       "      <td>$2,700/mo</td>\n",
       "      <td>Brooklyn</td>\n",
       "      <td>NaN</td>\n",
       "      <td>11221</td>\n",
       "      <td>Apartment</td>\n",
       "      <td>2</td>\n",
       "      <td>...</td>\n",
       "      <td>458.0</td>\n",
       "      <td>NaN</td>\n",
       "      <td>NaN</td>\n",
       "      <td>21906.0</td>\n",
       "      <td>11845.0</td>\n",
       "      <td>2080.0</td>\n",
       "      <td>79</td>\n",
       "      <td>46</td>\n",
       "      <td>0</td>\n",
       "      <td>1.591764</td>\n",
       "    </tr>\n",
       "    <tr>\n",
       "      <th>2801</th>\n",
       "      <td>NaN</td>\n",
       "      <td>-1</td>\n",
       "      <td>NaN</td>\n",
       "      <td>460 Throop Ave APT 10</td>\n",
       "      <td>$2,400/mo</td>\n",
       "      <td>Brooklyn</td>\n",
       "      <td>NaN</td>\n",
       "      <td>11221</td>\n",
       "      <td>Apartment</td>\n",
       "      <td>1</td>\n",
       "      <td>...</td>\n",
       "      <td>458.0</td>\n",
       "      <td>NaN</td>\n",
       "      <td>NaN</td>\n",
       "      <td>21906.0</td>\n",
       "      <td>11845.0</td>\n",
       "      <td>2080.0</td>\n",
       "      <td>79</td>\n",
       "      <td>46</td>\n",
       "      <td>0</td>\n",
       "      <td>1.591764</td>\n",
       "    </tr>\n",
       "    <tr>\n",
       "      <th>2803</th>\n",
       "      <td>NaN</td>\n",
       "      <td>-1</td>\n",
       "      <td>2024-11-20 00:00:00</td>\n",
       "      <td>509 Van Buren St #5R</td>\n",
       "      <td>$2,500/mo</td>\n",
       "      <td>Brooklyn</td>\n",
       "      <td>NaN</td>\n",
       "      <td>11221</td>\n",
       "      <td>Apartment</td>\n",
       "      <td>1</td>\n",
       "      <td>...</td>\n",
       "      <td>458.0</td>\n",
       "      <td>NaN</td>\n",
       "      <td>NaN</td>\n",
       "      <td>21906.0</td>\n",
       "      <td>11845.0</td>\n",
       "      <td>2080.0</td>\n",
       "      <td>81</td>\n",
       "      <td>33</td>\n",
       "      <td>3</td>\n",
       "      <td>1.214623</td>\n",
       "    </tr>\n",
       "    <tr>\n",
       "      <th>2817</th>\n",
       "      <td>NaN</td>\n",
       "      <td>-1</td>\n",
       "      <td>2024-12-01 00:00:00</td>\n",
       "      <td>499 Evergreen Ave APT 3B</td>\n",
       "      <td>$3,050/mo</td>\n",
       "      <td>Brooklyn</td>\n",
       "      <td>NaN</td>\n",
       "      <td>11221</td>\n",
       "      <td>Apartment</td>\n",
       "      <td>1</td>\n",
       "      <td>...</td>\n",
       "      <td>458.0</td>\n",
       "      <td>NaN</td>\n",
       "      <td>NaN</td>\n",
       "      <td>21906.0</td>\n",
       "      <td>11845.0</td>\n",
       "      <td>2080.0</td>\n",
       "      <td>83</td>\n",
       "      <td>37</td>\n",
       "      <td>0</td>\n",
       "      <td>1.373110</td>\n",
       "    </tr>\n",
       "  </tbody>\n",
       "</table>\n",
       "<p>5 rows × 55 columns</p>\n",
       "</div>"
      ],
      "text/plain": [
       "     listedAt  daysOnMarket        availableFrom                    street  \\\n",
       "2798      NaN            -1  2024-11-18 00:00:00      511 Van Buren St #3R   \n",
       "2799      NaN            -1                  NaN         607 Gates Ave #1E   \n",
       "2801      NaN            -1                  NaN     460 Throop Ave APT 10   \n",
       "2803      NaN            -1  2024-11-20 00:00:00      509 Van Buren St #5R   \n",
       "2817      NaN            -1  2024-12-01 00:00:00  499 Evergreen Ave APT 3B   \n",
       "\n",
       "          price   borough neighborhood    zip propertyType  beds  ...  \\\n",
       "2798  $2,400/mo  Brooklyn          NaN  11221    Apartment     1  ...   \n",
       "2799  $2,700/mo  Brooklyn          NaN  11221    Apartment     2  ...   \n",
       "2801  $2,400/mo  Brooklyn          NaN  11221    Apartment     1  ...   \n",
       "2803  $2,500/mo  Brooklyn          NaN  11221    Apartment     1  ...   \n",
       "2817  $3,050/mo  Brooklyn          NaN  11221    Apartment     1  ...   \n",
       "\n",
       "      Graduate or Professional Degree (Age 25+)  English Only  Spanish  \\\n",
       "2798                                      458.0           NaN      NaN   \n",
       "2799                                      458.0           NaN      NaN   \n",
       "2801                                      458.0           NaN      NaN   \n",
       "2803                                      458.0           NaN      NaN   \n",
       "2817                                      458.0           NaN      NaN   \n",
       "\n",
       "     Never Married  Currently Married Divorced Precinct  schools_in_precinct  \\\n",
       "2798       21906.0            11845.0   2080.0       81                   33   \n",
       "2799       21906.0            11845.0   2080.0       79                   46   \n",
       "2801       21906.0            11845.0   2080.0       79                   46   \n",
       "2803       21906.0            11845.0   2080.0       81                   33   \n",
       "2817       21906.0            11845.0   2080.0       83                   37   \n",
       "\n",
       "     nearby_subway_stations crime_rate  \n",
       "2798                      3   1.214623  \n",
       "2799                      0   1.591764  \n",
       "2801                      0   1.591764  \n",
       "2803                      3   1.214623  \n",
       "2817                      0   1.373110  \n",
       "\n",
       "[5 rows x 55 columns]"
      ]
     },
     "execution_count": 61,
     "metadata": {},
     "output_type": "execute_result"
    }
   ],
   "source": [
    "print(\"rows with negative daysOnMarket:\",len(df[df['daysOnMarket']<0]))\n",
    "negative_days_on_market_df = df[df['daysOnMarket']<0]\n",
    "negative_days_on_market_df.head()\n",
    "\n",
    "# looks like days on market is -1 when listedAt is NaN"
   ]
  },
  {
   "cell_type": "code",
   "execution_count": 62,
   "metadata": {},
   "outputs": [
    {
     "name": "stdout",
     "output_type": "stream",
     "text": [
      "Number of negative values: 0\n",
      "Number of NaN values: 1239\n"
     ]
    }
   ],
   "source": [
    "# Replace negative values with NaN\n",
    "df.loc[df['daysOnMarket'] < 0, 'daysOnMarket'] = np.nan\n",
    "\n",
    "print(\"Number of negative values:\", len(df[df['daysOnMarket'] < 0]))\n",
    "print(\"Number of NaN values:\", df['daysOnMarket'].isnull().sum())"
   ]
  },
  {
   "cell_type": "code",
   "execution_count": 63,
   "metadata": {},
   "outputs": [
    {
     "name": "stdout",
     "output_type": "stream",
     "text": [
      "Number of null values: 0\n",
      "price\n",
      "$3,000/mo    182\n",
      "$3,500/mo    155\n",
      "$2,800/mo    127\n",
      "$3,200/mo    125\n",
      "$2,600/mo     97\n",
      "            ... \n",
      "3296           1\n",
      "3346           1\n",
      "3126           1\n",
      "4159           1\n",
      "$1,625/mo      1\n",
      "Name: count, Length: 1378, dtype: int64\n"
     ]
    }
   ],
   "source": [
    "# for price\n",
    "print(\"Number of null values:\", df['price'].isnull().sum())\n",
    "print(df['price'].value_counts())"
   ]
  },
  {
   "cell_type": "code",
   "execution_count": 64,
   "metadata": {},
   "outputs": [
    {
     "name": "stdout",
     "output_type": "stream",
     "text": [
      "After cleaning:\n",
      "Number of null values: 0\n",
      "\n",
      "Basic statistics:\n",
      "count      7842.000000\n",
      "mean       4638.869421\n",
      "std        5976.426868\n",
      "min        1199.000000\n",
      "25%        2625.000000\n",
      "50%        3250.000000\n",
      "75%        4295.000000\n",
      "max      125000.000000\n",
      "Name: price, dtype: float64\n"
     ]
    }
   ],
   "source": [
    "# Remove '$' and '/mo' and convert to numeric\n",
    "df['price'] = df['price'].replace('[\\\\$,/mo]', '', regex=True).astype(float)\n",
    "\n",
    "# Verify the cleaning\n",
    "print(\"After cleaning:\")\n",
    "print(\"Number of null values:\", df['price'].isnull().sum())\n",
    "print(\"\\nBasic statistics:\")\n",
    "print(df['price'].describe())"
   ]
  },
  {
   "cell_type": "code",
   "execution_count": 65,
   "metadata": {},
   "outputs": [
    {
     "name": "stdout",
     "output_type": "stream",
     "text": [
      "Number of null values: 0\n",
      "count     7842.000000\n",
      "mean     10651.059551\n",
      "std        577.309660\n",
      "min      10001.000000\n",
      "25%      10025.000000\n",
      "50%      10467.000000\n",
      "75%      11221.000000\n",
      "max      12345.000000\n",
      "Name: zip, dtype: float64\n"
     ]
    }
   ],
   "source": [
    "# for zip\n",
    "# Check null values \n",
    "print(\"Number of null values:\", df['zip'].isnull().sum()) # NO NULL VALUES\n",
    "print(df['zip'].describe()) # no negative values - GOOD\n"
   ]
  },
  {
   "cell_type": "code",
   "execution_count": 66,
   "metadata": {},
   "outputs": [
    {
     "name": "stdout",
     "output_type": "stream",
     "text": [
      "Number of null values: 0\n",
      "propertyType\n",
      "Apartment    4713\n",
      "rental       1973\n",
      "condo         507\n",
      "coop          236\n",
      "House         201\n",
      "Townhouse     116\n",
      "house          59\n",
      "Condo          22\n",
      "townhouse      15\n",
      "Name: count, dtype: int64\n"
     ]
    }
   ],
   "source": [
    "# for propertyType\n",
    "print(\"Number of null values:\", df['propertyType'].isnull().sum()) # no null values\n",
    "print(df['propertyType'].value_counts()) # need to lowercase everything"
   ]
  },
  {
   "cell_type": "code",
   "execution_count": 67,
   "metadata": {},
   "outputs": [
    {
     "name": "stdout",
     "output_type": "stream",
     "text": [
      "propertyType\n",
      "apartment    4713\n",
      "rental       1973\n",
      "condo         529\n",
      "house         260\n",
      "coop          236\n",
      "townhouse     131\n",
      "Name: count, dtype: int64\n"
     ]
    }
   ],
   "source": [
    "df['propertyType'] = df['propertyType'].apply(lambda x:x.lower())\n",
    "print(df['propertyType'].value_counts()) # done"
   ]
  },
  {
   "cell_type": "code",
   "execution_count": 68,
   "metadata": {},
   "outputs": [
    {
     "name": "stdout",
     "output_type": "stream",
     "text": [
      "Number of null values: 0\n",
      "beds\n",
      "1     2401\n",
      "2     2356\n",
      "3     1665\n",
      "0      934\n",
      "4      390\n",
      "5       70\n",
      "6       20\n",
      "8        4\n",
      "10       1\n",
      "7        1\n",
      "Name: count, dtype: int64\n"
     ]
    }
   ],
   "source": [
    "# for beds\n",
    "print(\"Number of null values:\", df['beds'].isnull().sum()) # no null values\n",
    "print(df['beds'].value_counts()) # looks all good, 0 beds could mean studio"
   ]
  },
  {
   "cell_type": "code",
   "execution_count": 69,
   "metadata": {},
   "outputs": [
    {
     "name": "stdout",
     "output_type": "stream",
     "text": [
      "Number of null values: 0\n",
      "negative values: 0\n",
      "latitude\n",
      "40.710201    6\n",
      "40.746300    6\n",
      "40.761299    5\n",
      "40.707901    5\n",
      "40.750198    5\n",
      "            ..\n",
      "40.701070    1\n",
      "40.699270    1\n",
      "40.685238    1\n",
      "40.695530    1\n",
      "40.709740    1\n",
      "Name: count, Length: 7360, dtype: int64\n"
     ]
    }
   ],
   "source": [
    "# for latitude\n",
    "print(\"Number of null values:\", df['latitude'].isnull().sum()) # no null values\n",
    "print(\"negative values:\",len(df[df['latitude']<=0])) # looks good for NYC\n",
    "print(df['latitude'].value_counts()) # looks all good\n"
   ]
  },
  {
   "cell_type": "code",
   "execution_count": 70,
   "metadata": {},
   "outputs": [
    {
     "name": "stdout",
     "output_type": "stream",
     "text": [
      "Number of null values: 0\n",
      "negative values: 7842\n",
      "longitude\n",
      "-73.992302    7\n",
      "-73.989304    6\n",
      "-73.984200    6\n",
      "-73.972702    6\n",
      "-73.966904    5\n",
      "             ..\n",
      "-73.890145    1\n",
      "-73.877762    1\n",
      "-73.876597    1\n",
      "-73.894056    1\n",
      "-74.006620    1\n",
      "Name: count, Length: 7002, dtype: int64\n"
     ]
    }
   ],
   "source": [
    "# for longitude\n",
    "print(\"Number of null values:\", df['longitude'].isnull().sum()) # no null values\n",
    "print(\"negative values:\",len(df[df['longitude']<=0])) # looks good for NYC\n",
    "print(df['longitude'].value_counts()) # looks all good"
   ]
  },
  {
   "cell_type": "code",
   "execution_count": 71,
   "metadata": {},
   "outputs": [
    {
     "name": "stdout",
     "output_type": "stream",
     "text": [
      "Number of null values: 5052\n",
      "amenities\n",
      "['fios_available']                                                                                                                                                                                                                                                                                                                       118\n",
      "['fios_available', 'hardwood_floors']                                                                                                                                                                                                                                                                                                     54\n",
      "['fios_available', 'hardwood_floors', 'pets']                                                                                                                                                                                                                                                                                             20\n",
      "['elevator', 'fios_available', 'hardwood_floors', 'laundry', 'live_in_super']                                                                                                                                                                                                                                                             19\n",
      "['fios_available', 'nyc_evacuation_5']                                                                                                                                                                                                                                                                                                    15\n",
      "                                                                                                                                                                                                                                                                                                                                        ... \n",
      "['dishwasher', 'fios_available', 'hardwood_floors', 'laundry', 'live_in_super', 'pets']                                                                                                                                                                                                                                                    1\n",
      "['bike_room', 'central_ac', 'city_view', 'deck', 'dishwasher', 'doorman', 'elevator', 'fios_available', 'garage', 'garden_view', 'guarantors', 'gym', 'hardwood_floors', 'laundry', 'leed_registered', 'package_room', 'parking', 'park_view', 'patio', 'pets', 'pied_a_terre', 'smoke_free', 'virtual_doorman', 'wheelchair_access']      1\n",
      "['balcony', 'bike_room', 'central_ac', 'city_view', 'concierge', 'dishwasher', 'doorman', 'elevator', 'garage', 'gym', 'live_in_super', 'locker_cage', 'media_room', 'package_room', 'parking', 'pets', 'recreation_facilities', 'roofdeck', 'smoke_free', 'washer_dryer']                                                                 1\n",
      "['bike_room', 'central_ac', 'dishwasher', 'fios_available', 'hardwood_floors', 'nyc_evacuation_5', 'parking', 'skyline_view', 'terrace']                                                                                                                                                                                                   1\n",
      "['central_ac', 'city_view', 'courtyard', 'dishwasher', 'fios_available', 'garden_view', 'hardwood_floors', 'laundry', 'private_roof_deck', 'skyline_view', 'smoke_free', 'terrace', 'washer_dryer']                                                                                                                                        1\n",
      "Name: count, Length: 2146, dtype: int64\n"
     ]
    }
   ],
   "source": [
    "# for amenities\n",
    "print(\"Number of null values:\", df['amenities'].isnull().sum()) # too many null valus. over 50%. probably drop?\n",
    "print(df['amenities'].value_counts())"
   ]
  },
  {
   "cell_type": "code",
   "execution_count": 72,
   "metadata": {},
   "outputs": [
    {
     "name": "stdout",
     "output_type": "stream",
     "text": [
      "Number of null values: 5052\n",
      "negative values: 77\n"
     ]
    }
   ],
   "source": [
    "# for builtIn\n",
    "print(\"Number of null values:\", df['builtIn'].isnull().sum()) # too many null valus. over 50%. probably drop?\n",
    "print(\"negative values:\",len(df[df['builtIn']<=0])) # negattive values too?? dropping for sure"
   ]
  },
  {
   "cell_type": "code",
   "execution_count": 73,
   "metadata": {},
   "outputs": [
    {
     "name": "stdout",
     "output_type": "stream",
     "text": [
      "Number of null values: 0\n",
      "hasVideo\n",
      "False    5049\n",
      "1        2790\n",
      "True        3\n",
      "Name: count, dtype: int64\n"
     ]
    }
   ],
   "source": [
    "# for hasVideo\n",
    "print(\"Number of null values:\", df['hasVideo'].isnull().sum()) # no null values\n",
    "print(df['hasVideo'].value_counts()) # can clean this"
   ]
  },
  {
   "cell_type": "code",
   "execution_count": 77,
   "metadata": {},
   "outputs": [
    {
     "name": "stdout",
     "output_type": "stream",
     "text": [
      "hasVideo\n",
      "0    5049\n",
      "1    2793\n",
      "Name: count, dtype: int64\n"
     ]
    }
   ],
   "source": [
    "df['hasVideo'] = df['hasVideo'].apply(lambda x:1 if x=='True' or x=='1' else 0)\n",
    "print(df['hasVideo'].value_counts()) # done"
   ]
  },
  {
   "cell_type": "code",
   "execution_count": 79,
   "metadata": {},
   "outputs": [
    {
     "name": "stdout",
     "output_type": "stream",
     "text": [
      "Number of null values: 0\n",
      "negative values: 3793\n",
      "PhotosNum\n",
      "0      3793\n",
      "480     304\n",
      "560     285\n",
      "640     250\n",
      "720     242\n",
      "       ... \n",
      "35        1\n",
      "51        1\n",
      "73        1\n",
      "37        1\n",
      "31        1\n",
      "Name: count, Length: 63, dtype: int64\n"
     ]
    }
   ],
   "source": [
    "# for PhotosNum\n",
    "print(\"Number of null values:\", df['PhotosNum'].isnull().sum()) # no null values\n",
    "print(\"negative values:\",len(df[df['PhotosNum']<=0])) \n",
    "print(df['PhotosNum'].value_counts())"
   ]
  },
  {
   "cell_type": "code",
   "execution_count": 81,
   "metadata": {},
   "outputs": [
    {
     "name": "stdout",
     "output_type": "stream",
     "text": [
      "Number of null values: 2790\n",
      "state\n",
      "NY    5052\n",
      "Name: count, dtype: int64\n"
     ]
    }
   ],
   "source": [
    "# for state\n",
    "print(\"Number of null values:\", df['state'].isnull().sum()) # no null values\n",
    "print(df['state'].value_counts()) # we know we have taken all of these from NYC in NY state. so we can just drop this column, all values will be NY here"
   ]
  },
  {
   "cell_type": "code",
   "execution_count": 83,
   "metadata": {},
   "outputs": [
    {
     "name": "stdout",
     "output_type": "stream",
     "text": [
      "Number of null values: 6552\n",
      "isUndisclosedAddress\n",
      "False    1290\n",
      "Name: count, dtype: int64\n"
     ]
    }
   ],
   "source": [
    "# for isUndisclosedAddress\n",
    "print(\"Number of null values:\", df['isUndisclosedAddress'].isnull().sum()) # no null values\n",
    "print(df['isUndisclosedAddress'].value_counts()) # just dropping this, too many null"
   ]
  },
  {
   "cell_type": "code",
   "execution_count": 85,
   "metadata": {},
   "outputs": [
    {
     "name": "stdout",
     "output_type": "stream",
     "text": [
      "Number of null values: 2790\n",
      "isFeaturedListing\n",
      "True     3729\n",
      "False    1323\n",
      "Name: count, dtype: int64\n"
     ]
    }
   ],
   "source": [
    "# for isFeaturedListing\n",
    "print(\"Number of null values:\", df['isFeaturedListing'].isnull().sum()) \n",
    "print(df['isFeaturedListing'].value_counts()) # can drop"
   ]
  },
  {
   "cell_type": "code",
   "execution_count": 87,
   "metadata": {},
   "outputs": [
    {
     "name": "stdout",
     "output_type": "stream",
     "text": [
      "Number of null values: 0\n",
      "duplicate\n",
      "False    7842\n",
      "Name: count, dtype: int64\n"
     ]
    }
   ],
   "source": [
    "# for duplicate\n",
    "print(\"Number of null values:\", df['duplicate'].isnull().sum()) \n",
    "print(df['duplicate'].value_counts()) # can drop"
   ]
  },
  {
   "cell_type": "code",
   "execution_count": 88,
   "metadata": {},
   "outputs": [
    {
     "name": "stdout",
     "output_type": "stream",
     "text": [
      "Number of null values: 870\n",
      "Total Population\n",
      "54369.0    207\n",
      "53877.0    181\n",
      "91236.0    176\n",
      "58418.0    158\n",
      "65511.0    147\n",
      "          ... \n",
      "42792.0      2\n",
      "43517.0      2\n",
      "0.0          1\n",
      "7365.0       1\n",
      "47230.0      1\n",
      "Name: count, Length: 131, dtype: int64\n"
     ]
    }
   ],
   "source": [
    "# for Total Population\n",
    "print(\"Number of null values:\", df['Total Population'].isnull().sum()) \n",
    "print(df['Total Population'].value_counts())"
   ]
  },
  {
   "cell_type": "code",
   "execution_count": 91,
   "metadata": {},
   "outputs": [
    {
     "data": {
      "text/plain": [
       "zip\n",
       "10128    106\n",
       "11101     87\n",
       "11102     84\n",
       "11435     79\n",
       "11105     74\n",
       "11106     72\n",
       "11103     62\n",
       "11432     59\n",
       "10065     51\n",
       "11249     43\n",
       "10075     32\n",
       "11104     29\n",
       "11434     18\n",
       "11433     11\n",
       "10282      7\n",
       "10280      7\n",
       "11421      5\n",
       "11422      4\n",
       "11429      4\n",
       "11412      4\n",
       "11436      4\n",
       "10044      4\n",
       "11426      3\n",
       "11420      3\n",
       "11423      3\n",
       "11109      2\n",
       "11413      2\n",
       "11427      2\n",
       "11419      2\n",
       "11415      2\n",
       "10069      1\n",
       "11418      1\n",
       "12345      1\n",
       "11416      1\n",
       "11411      1\n",
       "Name: count, dtype: int64"
      ]
     },
     "execution_count": 91,
     "metadata": {},
     "output_type": "execute_result"
    }
   ],
   "source": [
    "df[df['Total Population'].isnull()]['zip'].value_counts()"
   ]
  },
  {
   "cell_type": "code",
   "execution_count": null,
   "metadata": {},
   "outputs": [],
   "source": []
  }
 ],
 "metadata": {
  "kernelspec": {
   "display_name": "venv",
   "language": "python",
   "name": "python3"
  },
  "language_info": {
   "codemirror_mode": {
    "name": "ipython",
    "version": 3
   },
   "file_extension": ".py",
   "mimetype": "text/x-python",
   "name": "python",
   "nbconvert_exporter": "python",
   "pygments_lexer": "ipython3",
   "version": "3.12.3"
  }
 },
 "nbformat": 4,
 "nbformat_minor": 2
}
